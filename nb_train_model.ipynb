{
 "cells": [
  {
   "cell_type": "code",
   "execution_count": 1,
   "metadata": {},
   "outputs": [],
   "source": [
    "%load_ext autoreload\n",
    "%autoreload 2"
   ]
  },
  {
   "cell_type": "code",
   "execution_count": 2,
   "metadata": {},
   "outputs": [],
   "source": [
    "import pandas as pd\n",
    "from pathlib import Path\n",
    "import matplotlib.pyplot as plt\n",
    "\n",
    "\n",
    "from td.trackdata.dataset import TrackData\n",
    "import plotly_express as px\n",
    "import plotly.graph_objects as go\n",
    "import torch \n",
    "\n",
    "import lightning as L\n",
    "\n",
    "from td.model.model_pl import MLPL \n",
    "from torch.utils.data import DataLoader\n",
    "from td.trackdata.utils import compute_means_and_stds"
   ]
  },
  {
   "cell_type": "code",
   "execution_count": 3,
   "metadata": {},
   "outputs": [],
   "source": [
    "data_folder = Path(\"/home/mila/m/mohit.anand/scratch/track_data/STORM/IRIS_event_set/\")"
   ]
  },
  {
   "cell_type": "code",
   "execution_count": 4,
   "metadata": {},
   "outputs": [],
   "source": [
    "train_dataset = TrackData(data_folder, train=True)\n",
    "train_dataset, val_dataset = torch.utils.data.random_split(train_dataset, [0.8, 0.2], generator=torch.Generator().manual_seed(42))\n",
    "train_loader, val_loader = DataLoader(train_dataset, batch_size=128), DataLoader(val_dataset, batch_size=128)"
   ]
  },
  {
   "cell_type": "code",
   "execution_count": 5,
   "metadata": {},
   "outputs": [],
   "source": [
    "x, y = train_dataset[0][0], train_dataset[0][1] "
   ]
  },
  {
   "cell_type": "code",
   "execution_count": 6,
   "metadata": {},
   "outputs": [],
   "source": [
    "model = MLPL()"
   ]
  },
  {
   "cell_type": "code",
   "execution_count": 7,
   "metadata": {},
   "outputs": [
    {
     "name": "stderr",
     "output_type": "stream",
     "text": [
      "/home/mila/m/mohit.anand/miniforge3/envs/forest_mssl/lib/python3.11/site-packages/lightning/fabric/plugins/environments/slurm.py:204: The `srun` command is available on your system but is not used. HINT: If your intention is to run Lightning on SLURM, prepend your python command with `srun` like so: srun python /home/mila/m/mohit.anand/miniforge3/envs/forest_mssl ...\n",
      "GPU available: True (cuda), used: True\n",
      "TPU available: False, using: 0 TPU cores\n",
      "HPU available: False, using: 0 HPUs\n",
      "/home/mila/m/mohit.anand/miniforge3/envs/forest_mssl/lib/python3.11/site-packages/lightning/pytorch/trainer/connectors/logger_connector/logger_connector.py:75: Starting from v1.9.0, `tensorboardX` has been removed as a dependency of the `lightning.pytorch` package, due to potential conflicts with other packages in the ML ecosystem. For this reason, `logger=True` will use `CSVLogger` as the default logger, unless the `tensorboard` or `tensorboardX` packages are found. Please `pip install lightning[extra]` or one of them to enable TensorBoard support by default\n"
     ]
    }
   ],
   "source": [
    "trainer = L.Trainer(accelerator=\"gpu\", max_epochs=2)"
   ]
  },
  {
   "cell_type": "code",
   "execution_count": 8,
   "metadata": {},
   "outputs": [
    {
     "name": "stderr",
     "output_type": "stream",
     "text": [
      "LOCAL_RANK: 0 - CUDA_VISIBLE_DEVICES: [0]\n"
     ]
    },
    {
     "name": "stderr",
     "output_type": "stream",
     "text": [
      "/home/mila/m/mohit.anand/miniforge3/envs/forest_mssl/lib/python3.11/site-packages/torch/optim/lr_scheduler.py:28: UserWarning: The verbose parameter is deprecated. Please use get_last_lr() to access the learning rate.\n",
      "  warnings.warn(\"The verbose parameter is deprecated. Please use get_last_lr() \"\n",
      "\n",
      "  | Name  | Type | Params | Mode \n",
      "---------------------------------------\n",
      "0 | model | MLP  | 3.0 M  | train\n",
      "---------------------------------------\n",
      "3.0 M     Trainable params\n",
      "0         Non-trainable params\n",
      "3.0 M     Total params\n",
      "11.881    Total estimated model params size (MB)\n"
     ]
    },
    {
     "data": {
      "application/vnd.jupyter.widget-view+json": {
       "model_id": "ab7f55c36dbd4d67b6ed1eb648c5e290",
       "version_major": 2,
       "version_minor": 0
      },
      "text/plain": [
       "Sanity Checking: |          | 0/? [00:00<?, ?it/s]"
      ]
     },
     "metadata": {},
     "output_type": "display_data"
    },
    {
     "data": {
      "application/vnd.jupyter.widget-view+json": {
       "model_id": "79fe16835fe94606ac834cd9e3b791f7",
       "version_major": 2,
       "version_minor": 0
      },
      "text/plain": [
       "Training: |          | 0/? [00:00<?, ?it/s]"
      ]
     },
     "metadata": {},
     "output_type": "display_data"
    },
    {
     "data": {
      "application/vnd.jupyter.widget-view+json": {
       "model_id": "0201a88c6c124d359f15b3c073f469b1",
       "version_major": 2,
       "version_minor": 0
      },
      "text/plain": [
       "Validation: |          | 0/? [00:00<?, ?it/s]"
      ]
     },
     "metadata": {},
     "output_type": "display_data"
    },
    {
     "data": {
      "application/vnd.jupyter.widget-view+json": {
       "model_id": "43de584c568448af8fc1c94eb6c52ac5",
       "version_major": 2,
       "version_minor": 0
      },
      "text/plain": [
       "Validation: |          | 0/? [00:00<?, ?it/s]"
      ]
     },
     "metadata": {},
     "output_type": "display_data"
    },
    {
     "name": "stderr",
     "output_type": "stream",
     "text": [
      "`Trainer.fit` stopped: `max_epochs=2` reached.\n"
     ]
    }
   ],
   "source": [
    "trainer.fit(model=model, train_dataloaders=train_loader, val_dataloaders=val_loader)"
   ]
  },
  {
   "cell_type": "code",
   "execution_count": 10,
   "metadata": {},
   "outputs": [],
   "source": [
    "y_list = []\n",
    "y_hat_list = []\n",
    "\n",
    "for i, batch in enumerate(val_loader):\n",
    "    x,y = batch\n",
    "    y_hat = model(x)\n",
    "    y_list.append(y)\n",
    "    y_hat_list.append(y_hat)"
   ]
  },
  {
   "cell_type": "code",
   "execution_count": 11,
   "metadata": {},
   "outputs": [
    {
     "data": {
      "text/plain": [
       "tensor([[  3.1597,   3.1597,   3.1597,   3.1597,   3.1597,   3.1597,   3.1597,\n",
       "           3.1597,   3.1597,   3.1597,   3.1597,   3.1597,   3.1597, -99.0000,\n",
       "         -99.0000, -99.0000, -99.0000, -99.0000, -99.0000, -99.0000, -99.0000,\n",
       "         -99.0000, -99.0000, -99.0000, -99.0000, -99.0000, -99.0000, -99.0000,\n",
       "         -99.0000, -99.0000, -99.0000, -99.0000, -99.0000, -99.0000, -99.0000,\n",
       "         -99.0000, -99.0000, -99.0000, -99.0000, -99.0000, -99.0000, -99.0000,\n",
       "         -99.0000, -99.0000, -99.0000, -99.0000, -99.0000, -99.0000, -99.0000,\n",
       "         -99.0000, -99.0000, -99.0000, -99.0000, -99.0000, -99.0000, -99.0000,\n",
       "         -99.0000, -99.0000, -99.0000, -99.0000, -99.0000, -99.0000, -99.0000,\n",
       "         -99.0000, -99.0000, -99.0000, -99.0000, -99.0000, -99.0000, -99.0000,\n",
       "         -99.0000, -99.0000, -99.0000, -99.0000, -99.0000, -99.0000, -99.0000,\n",
       "         -99.0000, -99.0000, -99.0000, -99.0000, -99.0000, -99.0000, -99.0000,\n",
       "         -99.0000, -99.0000, -99.0000, -99.0000, -99.0000, -99.0000, -99.0000,\n",
       "         -99.0000, -99.0000, -99.0000, -99.0000, -99.0000, -99.0000, -99.0000,\n",
       "         -99.0000, -99.0000, -99.0000, -99.0000, -99.0000, -99.0000, -99.0000,\n",
       "         -99.0000, -99.0000, -99.0000, -99.0000, -99.0000, -99.0000, -99.0000,\n",
       "         -99.0000, -99.0000, -99.0000, -99.0000, -99.0000, -99.0000, -99.0000,\n",
       "         -99.0000, -99.0000, -99.0000, -99.0000, -99.0000, -99.0000, -99.0000,\n",
       "         -99.0000, -99.0000, -99.0000, -99.0000, -99.0000, -99.0000, -99.0000,\n",
       "         -99.0000, -99.0000, -99.0000, -99.0000, -99.0000, -99.0000, -99.0000,\n",
       "         -99.0000, -99.0000, -99.0000, -99.0000, -99.0000, -99.0000, -99.0000,\n",
       "         -99.0000, -99.0000, -99.0000, -99.0000, -99.0000, -99.0000, -99.0000,\n",
       "         -99.0000, -99.0000, -99.0000, -99.0000, -99.0000, -99.0000, -99.0000,\n",
       "         -99.0000, -99.0000, -99.0000, -99.0000, -99.0000, -99.0000, -99.0000,\n",
       "         -99.0000, -99.0000, -99.0000, -99.0000, -99.0000, -99.0000, -99.0000,\n",
       "         -99.0000, -99.0000, -99.0000, -99.0000, -99.0000, -99.0000, -99.0000,\n",
       "         -99.0000, -99.0000, -99.0000, -99.0000, -99.0000, -99.0000, -99.0000,\n",
       "         -99.0000, -99.0000, -99.0000, -99.0000, -99.0000, -99.0000, -99.0000,\n",
       "         -99.0000, -99.0000, -99.0000, -99.0000],\n",
       "        [ -3.8086,  -3.8086,  -3.8086,  -3.8085,  -3.8085,  -3.8085,  -3.8085,\n",
       "          -3.8085,  -3.8085,  -3.8085,  -3.8085,  -3.8084,  -3.8084, -99.0000,\n",
       "         -99.0000, -99.0000, -99.0000, -99.0000, -99.0000, -99.0000, -99.0000,\n",
       "         -99.0000, -99.0000, -99.0000, -99.0000, -99.0000, -99.0000, -99.0000,\n",
       "         -99.0000, -99.0000, -99.0000, -99.0000, -99.0000, -99.0000, -99.0000,\n",
       "         -99.0000, -99.0000, -99.0000, -99.0000, -99.0000, -99.0000, -99.0000,\n",
       "         -99.0000, -99.0000, -99.0000, -99.0000, -99.0000, -99.0000, -99.0000,\n",
       "         -99.0000, -99.0000, -99.0000, -99.0000, -99.0000, -99.0000, -99.0000,\n",
       "         -99.0000, -99.0000, -99.0000, -99.0000, -99.0000, -99.0000, -99.0000,\n",
       "         -99.0000, -99.0000, -99.0000, -99.0000, -99.0000, -99.0000, -99.0000,\n",
       "         -99.0000, -99.0000, -99.0000, -99.0000, -99.0000, -99.0000, -99.0000,\n",
       "         -99.0000, -99.0000, -99.0000, -99.0000, -99.0000, -99.0000, -99.0000,\n",
       "         -99.0000, -99.0000, -99.0000, -99.0000, -99.0000, -99.0000, -99.0000,\n",
       "         -99.0000, -99.0000, -99.0000, -99.0000, -99.0000, -99.0000, -99.0000,\n",
       "         -99.0000, -99.0000, -99.0000, -99.0000, -99.0000, -99.0000, -99.0000,\n",
       "         -99.0000, -99.0000, -99.0000, -99.0000, -99.0000, -99.0000, -99.0000,\n",
       "         -99.0000, -99.0000, -99.0000, -99.0000, -99.0000, -99.0000, -99.0000,\n",
       "         -99.0000, -99.0000, -99.0000, -99.0000, -99.0000, -99.0000, -99.0000,\n",
       "         -99.0000, -99.0000, -99.0000, -99.0000, -99.0000, -99.0000, -99.0000,\n",
       "         -99.0000, -99.0000, -99.0000, -99.0000, -99.0000, -99.0000, -99.0000,\n",
       "         -99.0000, -99.0000, -99.0000, -99.0000, -99.0000, -99.0000, -99.0000,\n",
       "         -99.0000, -99.0000, -99.0000, -99.0000, -99.0000, -99.0000, -99.0000,\n",
       "         -99.0000, -99.0000, -99.0000, -99.0000, -99.0000, -99.0000, -99.0000,\n",
       "         -99.0000, -99.0000, -99.0000, -99.0000, -99.0000, -99.0000, -99.0000,\n",
       "         -99.0000, -99.0000, -99.0000, -99.0000, -99.0000, -99.0000, -99.0000,\n",
       "         -99.0000, -99.0000, -99.0000, -99.0000, -99.0000, -99.0000, -99.0000,\n",
       "         -99.0000, -99.0000, -99.0000, -99.0000, -99.0000, -99.0000, -99.0000,\n",
       "         -99.0000, -99.0000, -99.0000, -99.0000, -99.0000, -99.0000, -99.0000,\n",
       "         -99.0000, -99.0000, -99.0000, -99.0000]])"
      ]
     },
     "execution_count": 11,
     "metadata": {},
     "output_type": "execute_result"
    }
   ],
   "source": [
    "y_list[0][0][:2,:]"
   ]
  },
  {
   "cell_type": "code",
   "execution_count": null,
   "metadata": {},
   "outputs": [
    {
     "data": {
      "text/plain": [
       "tensor([[ 3.2377,  3.1993,  3.2521,  3.2352,  3.2328,  3.2234,  3.2406,  3.2384,\n",
       "          3.2472,  3.2428,  3.2510,  3.2346,  3.2335,  3.2228,  3.2137,  3.1955,\n",
       "          3.1652,  3.2102,  3.1720,  3.2252,  3.1830,  3.1818,  3.2109,  3.2295,\n",
       "          3.1814,  3.1978,  3.1985,  3.1922,  3.1870,  3.1950,  3.1828,  3.1925,\n",
       "          3.1828,  3.1748,  3.1718,  3.1802,  3.1709,  3.1786,  3.1810,  3.1832,\n",
       "          3.1716,  3.1701,  3.1799,  3.1740,  3.1755,  3.1888,  3.1827,  3.1803,\n",
       "          3.1648,  3.1509,  3.1610,  3.1487,  3.1382,  3.1768,  3.1920,  3.1730,\n",
       "          3.2001,  3.1936,  3.1956,  3.2119,  3.1716,  3.2019,  3.1457,  3.1518,\n",
       "          3.1721,  3.1914,  3.1878,  3.1928,  3.1928,  3.2020,  3.2412,  3.1876,\n",
       "          3.2166,  3.2466,  3.2288,  3.1799,  3.2445,  3.2071,  3.2073,  3.2349,\n",
       "          3.2231,  3.4275,  3.4885,  3.5304,  3.1925,  3.4124,  3.1538,  3.1781,\n",
       "          3.1328,  3.1511,  3.0684,  3.1440,  3.0450,  3.0174,  2.9570,  3.0511,\n",
       "          3.0585,  3.2050,  3.2189,  3.3506,  3.2483,  3.2366,  3.1051,  3.2510,\n",
       "          3.2630,  3.1526,  3.2167,  3.1789,  3.1797,  3.1775,  3.2090,  3.1955,\n",
       "          3.2061,  3.2135,  3.1859,  3.2194,  3.1791,  3.1149,  3.3576,  3.4364,\n",
       "          3.2575,  3.2711,  3.3002,  3.1727,  3.2233,  3.1916,  3.4367,  3.6380,\n",
       "          3.2220,  3.2922,  3.3309,  3.3105,  3.3052,  3.2769,  3.3947,  3.4384,\n",
       "          3.4083,  3.5304,  3.5274,  3.8482,  3.2731,  3.2913,  3.3245,  3.4757,\n",
       "          1.7849,  3.2075,  3.1765,  3.1825,  3.2222,  3.2152,  3.3459,  3.4497,\n",
       "          3.3992,  3.4918,  3.3773,  3.2716,  3.4060,  3.4152,  3.2481,  3.2655,\n",
       "          2.5367,  1.3414,  1.6817,  1.7496,  1.6267,  2.2991,  4.3111,  1.3674,\n",
       "          1.8280,  1.2482,  2.6200,  2.7309,  3.2359,  2.0479,  2.4265,  1.4211,\n",
       "          2.4484,  3.6923,  3.0981,  3.2276,  3.3708,  3.0131,  3.1361,  2.7281,\n",
       "          4.3066,  3.8989,  3.2487,  2.7239,  3.3101,  1.9454,  3.3569,  3.1793,\n",
       "          3.2291,  3.1517,  3.1856,  3.2983,  3.3374,  3.3051,  3.0995,  3.0203],\n",
       "        [-3.6489, -3.6555, -3.6505, -3.6332, -3.6625, -3.6271, -3.6441, -3.6048,\n",
       "         -3.6224, -3.6356, -3.6391, -3.6431, -3.6343, -3.6279, -3.6313, -3.6359,\n",
       "         -3.6273, -3.6406, -3.6192, -3.5918, -3.5949, -3.6093, -3.5703, -3.5723,\n",
       "         -3.5800, -3.5544, -3.5807, -3.5757, -3.5573, -3.5515, -3.5456, -3.5494,\n",
       "         -3.5342, -3.5256, -3.5442, -3.5630, -3.5490, -3.5246, -3.5739, -3.6042,\n",
       "         -3.6351, -3.6030, -3.5761, -3.6083, -3.6164, -3.6584, -3.6066, -3.6820,\n",
       "         -3.5908, -3.5698, -3.6131, -3.5522, -3.5503, -3.4924, -3.4954, -3.4939,\n",
       "         -3.5799, -3.4628, -3.4494, -3.4511, -3.5006, -3.5058, -3.4973, -3.4144,\n",
       "         -3.5565, -3.5274, -3.5080, -3.4020, -3.5187, -3.5427, -3.4806, -3.4565,\n",
       "         -3.4293, -3.4254, -3.4636, -3.5312, -3.5269, -3.5099, -3.5252, -3.4963,\n",
       "         -3.6736, -3.6471, -3.6981, -3.7071, -3.6771, -3.7652, -3.5699, -3.5352,\n",
       "         -3.7367, -3.7146, -3.7543, -3.6563, -3.6591, -3.5900, -3.6195, -3.6730,\n",
       "         -3.6209, -3.7362, -3.6123, -3.5950, -3.5131, -3.5005, -3.0919, -3.4465,\n",
       "         -3.4073, -3.5281, -3.5376, -3.5086, -3.5297, -3.6664, -3.6759, -3.6590,\n",
       "         -3.7633, -3.7837, -3.5349, -3.6289, -3.7035, -3.7143, -3.6232, -3.3544,\n",
       "         -3.6478, -3.2499, -3.2568, -3.1641, -3.1494, -3.4643, -3.5790, -4.0151,\n",
       "         -3.8023, -3.7749, -3.7858, -3.7690, -3.7703, -3.7241, -3.7237, -3.6461,\n",
       "         -3.6096, -3.4888, -3.6019, -3.5232, -3.5404, -3.5744, -3.8050, -3.4529,\n",
       "         -2.7263, -3.8592, -3.8504, -3.9284, -3.9007, -3.9005, -3.7603, -3.8126,\n",
       "         -3.8561, -3.8530, -3.8365, -3.8351, -3.9786, -3.7912, -3.8229, -3.7920,\n",
       "         -4.0532, -3.6971, -3.8287, -4.0277, -2.9464, -4.3448, -3.0394, -5.0401,\n",
       "         -1.3227, -2.5677, -4.5370, -3.2367, -5.5541, -5.5857, -4.9261, -5.1102,\n",
       "         -5.4383, -3.8497, -4.6884, -5.9782, -4.7354, -4.3642, -5.5524, -3.8104,\n",
       "         -3.5782, -5.8659, -3.8841, -3.5636, -3.4216, -3.5614, -5.7023, -3.4452,\n",
       "         -3.8034, -3.5987, -2.9486, -3.7217, -3.3407, -3.4910, -2.4274,  2.0905]],\n",
       "       grad_fn=<SliceBackward0>)"
      ]
     },
     "execution_count": 15,
     "metadata": {},
     "output_type": "execute_result"
    }
   ],
   "source": [
    "y_hat_list[0][10][:2,:]"
   ]
  },
  {
   "cell_type": "code",
   "execution_count": null,
   "metadata": {},
   "outputs": [],
   "source": []
  }
 ],
 "metadata": {
  "kernelspec": {
   "display_name": "forest_mssl",
   "language": "python",
   "name": "python3"
  },
  "language_info": {
   "codemirror_mode": {
    "name": "ipython",
    "version": 3
   },
   "file_extension": ".py",
   "mimetype": "text/x-python",
   "name": "python",
   "nbconvert_exporter": "python",
   "pygments_lexer": "ipython3",
   "version": "3.11.9"
  }
 },
 "nbformat": 4,
 "nbformat_minor": 2
}
